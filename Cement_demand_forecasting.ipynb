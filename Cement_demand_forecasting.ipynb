{
 "cells": [
  {
   "cell_type": "code",
   "execution_count": 1,
   "id": "dcbb8125-d0c4-4c8a-99a1-e6cbd2424207",
   "metadata": {},
   "outputs": [],
   "source": [
    "import pandas as pd\n",
    "import numpy as np\n",
    "import sqlite3 as sql\n",
    "import matplotlib.pyplot as plt\n",
    "import sqlalchemy\n",
    "import seaborn as sns"
   ]
  },
  {
   "cell_type": "code",
   "execution_count": 2,
   "id": "6f7d19d1-22fc-4d0e-a7b5-31fc4f456abc",
   "metadata": {},
   "outputs": [],
   "source": [
    "try:\n",
    "    conn = sql.connect(\"MIG_Cement_Records.db\")\n",
    "except Exception as e:\n",
    "    print(e)"
   ]
  },
  {
   "cell_type": "code",
   "execution_count": 3,
   "id": "f06ad2cf-261d-4f34-8093-3a89020ceb45",
   "metadata": {},
   "outputs": [],
   "source": [
    "cursor = conn.cursor()"
   ]
  },
  {
   "cell_type": "code",
   "execution_count": 4,
   "id": "e66d6c39-4ab6-4c9f-b64e-d029a7a1e482",
   "metadata": {},
   "outputs": [
    {
     "data": {
      "text/plain": [
       "<sqlite3.Cursor at 0x135715ac0>"
      ]
     },
     "execution_count": 4,
     "metadata": {},
     "output_type": "execute_result"
    }
   ],
   "source": [
    "cursor.execute(\"SELECT name FROM sqlite_master WHERE type='table';\")"
   ]
  },
  {
   "cell_type": "code",
   "execution_count": 5,
   "id": "d3c30966-aa3c-4bb8-adef-45e81b1095b4",
   "metadata": {},
   "outputs": [
    {
     "name": "stdout",
     "output_type": "stream",
     "text": [
      "Table Name: [('Sites',), ('CementTypes',), ('Operations',)]\n"
     ]
    }
   ],
   "source": [
    "print(f\"Table Name: {cursor.fetchall()}\")"
   ]
  },
  {
   "cell_type": "code",
   "execution_count": 6,
   "id": "b2601dcb-1e2d-4424-a764-e70e8642bcd9",
   "metadata": {},
   "outputs": [],
   "source": [
    "df1 = pd.read_sql_query('SELECT * FROM Sites', conn)\n",
    "df2 = pd.read_sql_query('SELECT * FROM CementTypes', conn)\n",
    "df3 = pd.read_sql_query('SELECT * FROM Operations', conn)\n",
    "conn.close()"
   ]
  },
  {
   "cell_type": "code",
   "execution_count": 7,
   "id": "2994a566-4eed-42d3-86d3-8b448ba1657c",
   "metadata": {},
   "outputs": [
    {
     "data": {
      "text/html": [
       "<div>\n",
       "<style scoped>\n",
       "    .dataframe tbody tr th:only-of-type {\n",
       "        vertical-align: middle;\n",
       "    }\n",
       "\n",
       "    .dataframe tbody tr th {\n",
       "        vertical-align: top;\n",
       "    }\n",
       "\n",
       "    .dataframe thead th {\n",
       "        text-align: right;\n",
       "    }\n",
       "</style>\n",
       "<table border=\"1\" class=\"dataframe\">\n",
       "  <thead>\n",
       "    <tr style=\"text-align: right;\">\n",
       "      <th></th>\n",
       "      <th>site_id</th>\n",
       "      <th>region</th>\n",
       "      <th>silo_capacity</th>\n",
       "      <th>behavior</th>\n",
       "    </tr>\n",
       "  </thead>\n",
       "  <tbody>\n",
       "    <tr>\n",
       "      <th>0</th>\n",
       "      <td>SITE_001</td>\n",
       "      <td>North</td>\n",
       "      <td>448</td>\n",
       "      <td>aggressive</td>\n",
       "    </tr>\n",
       "    <tr>\n",
       "      <th>1</th>\n",
       "      <td>SITE_002</td>\n",
       "      <td>South</td>\n",
       "      <td>288</td>\n",
       "      <td>conservative</td>\n",
       "    </tr>\n",
       "    <tr>\n",
       "      <th>2</th>\n",
       "      <td>SITE_003</td>\n",
       "      <td>East</td>\n",
       "      <td>314</td>\n",
       "      <td>aggressive</td>\n",
       "    </tr>\n",
       "    <tr>\n",
       "      <th>3</th>\n",
       "      <td>SITE_004</td>\n",
       "      <td>South</td>\n",
       "      <td>472</td>\n",
       "      <td>conservative</td>\n",
       "    </tr>\n",
       "    <tr>\n",
       "      <th>4</th>\n",
       "      <td>SITE_005</td>\n",
       "      <td>South</td>\n",
       "      <td>230</td>\n",
       "      <td>aggressive</td>\n",
       "    </tr>\n",
       "  </tbody>\n",
       "</table>\n",
       "</div>"
      ],
      "text/plain": [
       "    site_id region  silo_capacity      behavior\n",
       "0  SITE_001  North            448    aggressive\n",
       "1  SITE_002  South            288  conservative\n",
       "2  SITE_003   East            314    aggressive\n",
       "3  SITE_004  South            472  conservative\n",
       "4  SITE_005  South            230    aggressive"
      ]
     },
     "execution_count": 7,
     "metadata": {},
     "output_type": "execute_result"
    }
   ],
   "source": [
    "df1.head()\n",
    "#df2.head()\n",
    "#df3.head()"
   ]
  },
  {
   "cell_type": "code",
   "execution_count": 8,
   "id": "7f0024ce-40bb-4e06-b662-b9669334ff99",
   "metadata": {},
   "outputs": [
    {
     "data": {
      "text/plain": [
       "Index(['site_id', 'region', 'silo_capacity', 'behavior'], dtype='object')"
      ]
     },
     "execution_count": 8,
     "metadata": {},
     "output_type": "execute_result"
    }
   ],
   "source": [
    "df1.columns"
   ]
  },
  {
   "cell_type": "code",
   "execution_count": 9,
   "id": "dd22ac0f-21e9-47e0-b7db-a6f9833407fe",
   "metadata": {},
   "outputs": [
    {
     "data": {
      "text/plain": [
       "Index(['cement_type'], dtype='object')"
      ]
     },
     "execution_count": 9,
     "metadata": {},
     "output_type": "execute_result"
    }
   ],
   "source": [
    "df2.columns"
   ]
  },
  {
   "cell_type": "code",
   "execution_count": 10,
   "id": "d2e2cd3f-f587-45a8-8e8f-185b813c214a",
   "metadata": {},
   "outputs": [
    {
     "data": {
      "text/html": [
       "<div>\n",
       "<style scoped>\n",
       "    .dataframe tbody tr th:only-of-type {\n",
       "        vertical-align: middle;\n",
       "    }\n",
       "\n",
       "    .dataframe tbody tr th {\n",
       "        vertical-align: top;\n",
       "    }\n",
       "\n",
       "    .dataframe thead th {\n",
       "        text-align: right;\n",
       "    }\n",
       "</style>\n",
       "<table border=\"1\" class=\"dataframe\">\n",
       "  <thead>\n",
       "    <tr style=\"text-align: right;\">\n",
       "      <th></th>\n",
       "      <th>date</th>\n",
       "      <th>site_id</th>\n",
       "      <th>cement_type</th>\n",
       "      <th>planned_pour_tonnes</th>\n",
       "      <th>consumed_tonnes</th>\n",
       "      <th>opening_inventory_tonnes</th>\n",
       "      <th>deliveries_tonnes</th>\n",
       "      <th>closing_inventory_tonnes</th>\n",
       "      <th>rain_mm</th>\n",
       "      <th>avg_temp_c</th>\n",
       "      <th>silo_capacity</th>\n",
       "    </tr>\n",
       "  </thead>\n",
       "  <tbody>\n",
       "    <tr>\n",
       "      <th>0</th>\n",
       "      <td>2022-01-01</td>\n",
       "      <td>SITE_001</td>\n",
       "      <td>CEM_II</td>\n",
       "      <td>43.18</td>\n",
       "      <td>34.54</td>\n",
       "      <td>52.56</td>\n",
       "      <td>45.83</td>\n",
       "      <td>63.85</td>\n",
       "      <td>3.40</td>\n",
       "      <td>-3.10</td>\n",
       "      <td>448</td>\n",
       "    </tr>\n",
       "    <tr>\n",
       "      <th>1</th>\n",
       "      <td>2022-01-02</td>\n",
       "      <td>SITE_001</td>\n",
       "      <td>CEM_I</td>\n",
       "      <td>45.26</td>\n",
       "      <td>45.26</td>\n",
       "      <td>63.85</td>\n",
       "      <td>19.97</td>\n",
       "      <td>38.56</td>\n",
       "      <td>3.23</td>\n",
       "      <td>14.28</td>\n",
       "      <td>448</td>\n",
       "    </tr>\n",
       "    <tr>\n",
       "      <th>2</th>\n",
       "      <td>2022-01-03</td>\n",
       "      <td>SITE_001</td>\n",
       "      <td>CEM_III</td>\n",
       "      <td>38.69</td>\n",
       "      <td>38.69</td>\n",
       "      <td>38.56</td>\n",
       "      <td>47.19</td>\n",
       "      <td>47.06</td>\n",
       "      <td>2.64</td>\n",
       "      <td>6.40</td>\n",
       "      <td>448</td>\n",
       "    </tr>\n",
       "    <tr>\n",
       "      <th>3</th>\n",
       "      <td>2022-01-04</td>\n",
       "      <td>SITE_001</td>\n",
       "      <td>CEM_I</td>\n",
       "      <td>33.16</td>\n",
       "      <td>33.16</td>\n",
       "      <td>47.06</td>\n",
       "      <td>18.74</td>\n",
       "      <td>32.64</td>\n",
       "      <td>8.25</td>\n",
       "      <td>14.23</td>\n",
       "      <td>448</td>\n",
       "    </tr>\n",
       "    <tr>\n",
       "      <th>4</th>\n",
       "      <td>2022-01-05</td>\n",
       "      <td>SITE_001</td>\n",
       "      <td>CEM_III</td>\n",
       "      <td>56.88</td>\n",
       "      <td>47.04</td>\n",
       "      <td>32.64</td>\n",
       "      <td>14.40</td>\n",
       "      <td>0.00</td>\n",
       "      <td>2.69</td>\n",
       "      <td>8.97</td>\n",
       "      <td>448</td>\n",
       "    </tr>\n",
       "  </tbody>\n",
       "</table>\n",
       "</div>"
      ],
      "text/plain": [
       "         date   site_id cement_type  planned_pour_tonnes  consumed_tonnes  \\\n",
       "0  2022-01-01  SITE_001      CEM_II                43.18            34.54   \n",
       "1  2022-01-02  SITE_001       CEM_I                45.26            45.26   \n",
       "2  2022-01-03  SITE_001     CEM_III                38.69            38.69   \n",
       "3  2022-01-04  SITE_001       CEM_I                33.16            33.16   \n",
       "4  2022-01-05  SITE_001     CEM_III                56.88            47.04   \n",
       "\n",
       "   opening_inventory_tonnes  deliveries_tonnes  closing_inventory_tonnes  \\\n",
       "0                     52.56              45.83                     63.85   \n",
       "1                     63.85              19.97                     38.56   \n",
       "2                     38.56              47.19                     47.06   \n",
       "3                     47.06              18.74                     32.64   \n",
       "4                     32.64              14.40                      0.00   \n",
       "\n",
       "   rain_mm  avg_temp_c  silo_capacity  \n",
       "0     3.40       -3.10            448  \n",
       "1     3.23       14.28            448  \n",
       "2     2.64        6.40            448  \n",
       "3     8.25       14.23            448  \n",
       "4     2.69        8.97            448  "
      ]
     },
     "execution_count": 10,
     "metadata": {},
     "output_type": "execute_result"
    }
   ],
   "source": [
    "df3.head()"
   ]
  },
  {
   "cell_type": "code",
   "execution_count": 11,
   "id": "87fa7dd3-7dfa-467a-91a2-a5d603222074",
   "metadata": {},
   "outputs": [
    {
     "data": {
      "text/plain": [
       "(30, 4)"
      ]
     },
     "execution_count": 11,
     "metadata": {},
     "output_type": "execute_result"
    }
   ],
   "source": [
    "df1.shape"
   ]
  },
  {
   "cell_type": "code",
   "execution_count": 12,
   "id": "b3b4f4e2-bc47-44a5-8d42-98c0b46f80e2",
   "metadata": {},
   "outputs": [
    {
     "data": {
      "text/plain": [
       "(3, 1)"
      ]
     },
     "execution_count": 12,
     "metadata": {},
     "output_type": "execute_result"
    }
   ],
   "source": [
    "df2.shape"
   ]
  },
  {
   "cell_type": "code",
   "execution_count": 13,
   "id": "31916e3a-7853-45e5-86c6-1d2ea0b688b6",
   "metadata": {},
   "outputs": [
    {
     "data": {
      "text/plain": [
       "(32880, 11)"
      ]
     },
     "execution_count": 13,
     "metadata": {},
     "output_type": "execute_result"
    }
   ],
   "source": [
    "df3.shape"
   ]
  },
  {
   "cell_type": "code",
   "execution_count": 14,
   "id": "1aa7ba09-9bdd-4732-9e96-44d2333c8549",
   "metadata": {},
   "outputs": [
    {
     "name": "stdout",
     "output_type": "stream",
     "text": [
      "<class 'pandas.core.frame.DataFrame'>\n",
      "RangeIndex: 30 entries, 0 to 29\n",
      "Data columns (total 4 columns):\n",
      " #   Column         Non-Null Count  Dtype \n",
      "---  ------         --------------  ----- \n",
      " 0   site_id        30 non-null     object\n",
      " 1   region         30 non-null     object\n",
      " 2   silo_capacity  30 non-null     int64 \n",
      " 3   behavior       30 non-null     object\n",
      "dtypes: int64(1), object(3)\n",
      "memory usage: 1.1+ KB\n"
     ]
    }
   ],
   "source": [
    "df1.info()"
   ]
  },
  {
   "cell_type": "code",
   "execution_count": 15,
   "id": "859267d2-db79-47e3-aac8-e0526e32574e",
   "metadata": {},
   "outputs": [
    {
     "name": "stdout",
     "output_type": "stream",
     "text": [
      "<class 'pandas.core.frame.DataFrame'>\n",
      "RangeIndex: 3 entries, 0 to 2\n",
      "Data columns (total 1 columns):\n",
      " #   Column       Non-Null Count  Dtype \n",
      "---  ------       --------------  ----- \n",
      " 0   cement_type  3 non-null      object\n",
      "dtypes: object(1)\n",
      "memory usage: 156.0+ bytes\n"
     ]
    }
   ],
   "source": [
    "df2.info()"
   ]
  },
  {
   "cell_type": "code",
   "execution_count": 16,
   "id": "996bccd6-d92b-472f-b85c-22ba7db84384",
   "metadata": {},
   "outputs": [],
   "source": [
    "df3['date'] = pd.to_datetime(df3['date'])"
   ]
  },
  {
   "cell_type": "code",
   "execution_count": 17,
   "id": "c875790e-0191-4328-897d-e2f97d65b9c1",
   "metadata": {},
   "outputs": [
    {
     "data": {
      "text/plain": [
       "array(['SITE_001', 'SITE_002', 'SITE_003', 'SITE_004', 'SITE_005',\n",
       "       'SITE_006', 'SITE_007', 'SITE_008', 'SITE_009', 'SITE_010',\n",
       "       'SITE_011', 'SITE_012', 'SITE_013', 'SITE_014', 'SITE_015',\n",
       "       'SITE_016', 'SITE_017', 'SITE_018', 'SITE_019', 'SITE_020',\n",
       "       'SITE_021', 'SITE_022', 'SITE_023', 'SITE_024', 'SITE_025',\n",
       "       'SITE_026', 'SITE_027', 'SITE_028', 'SITE_029', 'SITE_030'],\n",
       "      dtype=object)"
      ]
     },
     "execution_count": 17,
     "metadata": {},
     "output_type": "execute_result"
    }
   ],
   "source": [
    "df3['site_id'].unique()"
   ]
  },
  {
   "cell_type": "code",
   "execution_count": 18,
   "id": "7e6d76a5-a5ba-4720-9f46-5c76ae49cd02",
   "metadata": {},
   "outputs": [
    {
     "name": "stdout",
     "output_type": "stream",
     "text": [
      "<class 'pandas.core.frame.DataFrame'>\n",
      "RangeIndex: 32880 entries, 0 to 32879\n",
      "Data columns (total 11 columns):\n",
      " #   Column                    Non-Null Count  Dtype         \n",
      "---  ------                    --------------  -----         \n",
      " 0   date                      32880 non-null  datetime64[ns]\n",
      " 1   site_id                   32880 non-null  object        \n",
      " 2   cement_type               32880 non-null  object        \n",
      " 3   planned_pour_tonnes       32880 non-null  float64       \n",
      " 4   consumed_tonnes           32880 non-null  float64       \n",
      " 5   opening_inventory_tonnes  32880 non-null  float64       \n",
      " 6   deliveries_tonnes         32880 non-null  float64       \n",
      " 7   closing_inventory_tonnes  32880 non-null  float64       \n",
      " 8   rain_mm                   32880 non-null  float64       \n",
      " 9   avg_temp_c                32880 non-null  float64       \n",
      " 10  silo_capacity             32880 non-null  int64         \n",
      "dtypes: datetime64[ns](1), float64(7), int64(1), object(2)\n",
      "memory usage: 2.8+ MB\n"
     ]
    }
   ],
   "source": [
    "df3.info()"
   ]
  },
  {
   "cell_type": "code",
   "execution_count": 19,
   "id": "14470a91-89f7-4280-95b9-24dd6b595509",
   "metadata": {},
   "outputs": [
    {
     "data": {
      "text/plain": [
       "27"
      ]
     },
     "execution_count": 19,
     "metadata": {},
     "output_type": "execute_result"
    }
   ],
   "source": [
    "df3['silo_capacity'].nunique()"
   ]
  },
  {
   "cell_type": "code",
   "execution_count": 20,
   "id": "ad2aaf00-884c-43de-9f34-241707ae0c60",
   "metadata": {},
   "outputs": [
    {
     "data": {
      "text/plain": [
       "site_id          0\n",
       "region           0\n",
       "silo_capacity    0\n",
       "behavior         0\n",
       "dtype: int64"
      ]
     },
     "execution_count": 20,
     "metadata": {},
     "output_type": "execute_result"
    }
   ],
   "source": [
    "df1.isnull().sum()"
   ]
  },
  {
   "cell_type": "code",
   "execution_count": 21,
   "id": "6f725c5f-d996-4c84-9fda-94e8a72d8688",
   "metadata": {},
   "outputs": [
    {
     "data": {
      "text/plain": [
       "cement_type    0\n",
       "dtype: int64"
      ]
     },
     "execution_count": 21,
     "metadata": {},
     "output_type": "execute_result"
    }
   ],
   "source": [
    "df2.isnull().sum()"
   ]
  },
  {
   "cell_type": "code",
   "execution_count": 22,
   "id": "949f836d-9824-4bae-82b6-5af4908381e0",
   "metadata": {},
   "outputs": [
    {
     "data": {
      "text/plain": [
       "date                        0\n",
       "site_id                     0\n",
       "cement_type                 0\n",
       "planned_pour_tonnes         0\n",
       "consumed_tonnes             0\n",
       "opening_inventory_tonnes    0\n",
       "deliveries_tonnes           0\n",
       "closing_inventory_tonnes    0\n",
       "rain_mm                     0\n",
       "avg_temp_c                  0\n",
       "silo_capacity               0\n",
       "dtype: int64"
      ]
     },
     "execution_count": 22,
     "metadata": {},
     "output_type": "execute_result"
    }
   ],
   "source": [
    "df3.isnull().sum()"
   ]
  },
  {
   "cell_type": "code",
   "execution_count": 23,
   "id": "4f8f67b5-6651-4d7c-9db4-d75f558aa250",
   "metadata": {},
   "outputs": [
    {
     "data": {
      "text/plain": [
       "Index(['date', 'site_id', 'cement_type', 'planned_pour_tonnes',\n",
       "       'consumed_tonnes', 'opening_inventory_tonnes', 'deliveries_tonnes',\n",
       "       'closing_inventory_tonnes', 'rain_mm', 'avg_temp_c', 'silo_capacity'],\n",
       "      dtype='object')"
      ]
     },
     "execution_count": 23,
     "metadata": {},
     "output_type": "execute_result"
    }
   ],
   "source": [
    "df3.columns"
   ]
  },
  {
   "cell_type": "code",
   "execution_count": 24,
   "id": "8fea196e-7834-4c1d-930f-106019a81b28",
   "metadata": {},
   "outputs": [
    {
     "data": {
      "text/plain": [
       "site_id          object\n",
       "region           object\n",
       "silo_capacity     int64\n",
       "behavior         object\n",
       "dtype: object"
      ]
     },
     "execution_count": 24,
     "metadata": {},
     "output_type": "execute_result"
    }
   ],
   "source": [
    "df1.dtypes"
   ]
  },
  {
   "cell_type": "code",
   "execution_count": 25,
   "id": "fac0378b-3199-4846-b50b-aaf9203a625b",
   "metadata": {},
   "outputs": [
    {
     "data": {
      "text/plain": [
       "cement_type    object\n",
       "dtype: object"
      ]
     },
     "execution_count": 25,
     "metadata": {},
     "output_type": "execute_result"
    }
   ],
   "source": [
    "df2.dtypes"
   ]
  },
  {
   "cell_type": "code",
   "execution_count": 26,
   "id": "fee58af0-9d8d-4201-b739-f1dfe32dfc7d",
   "metadata": {},
   "outputs": [
    {
     "data": {
      "text/plain": [
       "date                        datetime64[ns]\n",
       "site_id                             object\n",
       "cement_type                         object\n",
       "planned_pour_tonnes                float64\n",
       "consumed_tonnes                    float64\n",
       "opening_inventory_tonnes           float64\n",
       "deliveries_tonnes                  float64\n",
       "closing_inventory_tonnes           float64\n",
       "rain_mm                            float64\n",
       "avg_temp_c                         float64\n",
       "silo_capacity                        int64\n",
       "dtype: object"
      ]
     },
     "execution_count": 26,
     "metadata": {},
     "output_type": "execute_result"
    }
   ],
   "source": [
    "df3.dtypes"
   ]
  },
  {
   "cell_type": "code",
   "execution_count": 27,
   "id": "5f59d9a8-f2e0-40b6-8f9c-e28148c681ed",
   "metadata": {},
   "outputs": [
    {
     "data": {
      "text/plain": [
       "site_id          0\n",
       "region           0\n",
       "silo_capacity    0\n",
       "behavior         0\n",
       "dtype: int64"
      ]
     },
     "execution_count": 27,
     "metadata": {},
     "output_type": "execute_result"
    }
   ],
   "source": [
    "df1.isna().sum()"
   ]
  },
  {
   "cell_type": "code",
   "execution_count": 28,
   "id": "91976b17-d650-4403-97b5-c4eaad786eb2",
   "metadata": {},
   "outputs": [],
   "source": [
    "df1['site_id'] = df1['site_id'].astype('category')"
   ]
  },
  {
   "cell_type": "code",
   "execution_count": 29,
   "id": "11370890-b361-493b-8a17-566891b7ad3f",
   "metadata": {},
   "outputs": [
    {
     "data": {
      "text/plain": [
       "cement_type    0\n",
       "dtype: int64"
      ]
     },
     "execution_count": 29,
     "metadata": {},
     "output_type": "execute_result"
    }
   ],
   "source": [
    "df2.isna().sum()"
   ]
  },
  {
   "cell_type": "code",
   "execution_count": 30,
   "id": "706c6714-fac9-455c-b886-76d02b7948ac",
   "metadata": {},
   "outputs": [],
   "source": [
    "df2['cement_type'] = df2['cement_type'].astype('category')"
   ]
  },
  {
   "cell_type": "code",
   "execution_count": 31,
   "id": "e0cffd46-3509-4062-a613-4e1eb47bc8a7",
   "metadata": {},
   "outputs": [
    {
     "data": {
      "text/plain": [
       "np.int64(0)"
      ]
     },
     "execution_count": 31,
     "metadata": {},
     "output_type": "execute_result"
    }
   ],
   "source": [
    "df2.duplicated().sum()"
   ]
  },
  {
   "cell_type": "code",
   "execution_count": 32,
   "id": "0cc4f7e4-4ead-4001-8b61-cf8c14d62a24",
   "metadata": {},
   "outputs": [
    {
     "data": {
      "text/plain": [
       "date                        0\n",
       "site_id                     0\n",
       "cement_type                 0\n",
       "planned_pour_tonnes         0\n",
       "consumed_tonnes             0\n",
       "opening_inventory_tonnes    0\n",
       "deliveries_tonnes           0\n",
       "closing_inventory_tonnes    0\n",
       "rain_mm                     0\n",
       "avg_temp_c                  0\n",
       "silo_capacity               0\n",
       "dtype: int64"
      ]
     },
     "execution_count": 32,
     "metadata": {},
     "output_type": "execute_result"
    }
   ],
   "source": [
    "df3.isna().sum()"
   ]
  },
  {
   "cell_type": "code",
   "execution_count": 33,
   "id": "829be5b3-a6af-4ffd-a86d-4b1f8a90b6ce",
   "metadata": {},
   "outputs": [
    {
     "data": {
      "text/plain": [
       "np.int64(0)"
      ]
     },
     "execution_count": 33,
     "metadata": {},
     "output_type": "execute_result"
    }
   ],
   "source": [
    "df3.duplicated().sum()"
   ]
  },
  {
   "cell_type": "code",
   "execution_count": 34,
   "id": "8f555f54-6b04-439d-9040-c83e53f1f44f",
   "metadata": {},
   "outputs": [],
   "source": [
    "df3[['site_id','cement_type']] = df3[['site_id','cement_type']].astype('category')"
   ]
  },
  {
   "cell_type": "code",
   "execution_count": 35,
   "id": "176b7d1b-5f0c-49a6-9abe-924dcc8bf4d6",
   "metadata": {},
   "outputs": [],
   "source": [
    "df_merged = df3.merge(df1, on='site_id', how='left')"
   ]
  },
  {
   "cell_type": "code",
   "execution_count": 36,
   "id": "9ec40b08-b437-4da6-992b-da31eed776d0",
   "metadata": {},
   "outputs": [],
   "source": [
    "df_merged = df_merged.merge(df2, on='cement_type', how='left')"
   ]
  },
  {
   "cell_type": "code",
   "execution_count": 37,
   "id": "54fa3fc4-fe78-44a6-91b0-9e86d6a4eb14",
   "metadata": {},
   "outputs": [
    {
     "data": {
      "text/html": [
       "<div>\n",
       "<style scoped>\n",
       "    .dataframe tbody tr th:only-of-type {\n",
       "        vertical-align: middle;\n",
       "    }\n",
       "\n",
       "    .dataframe tbody tr th {\n",
       "        vertical-align: top;\n",
       "    }\n",
       "\n",
       "    .dataframe thead th {\n",
       "        text-align: right;\n",
       "    }\n",
       "</style>\n",
       "<table border=\"1\" class=\"dataframe\">\n",
       "  <thead>\n",
       "    <tr style=\"text-align: right;\">\n",
       "      <th></th>\n",
       "      <th>date</th>\n",
       "      <th>site_id</th>\n",
       "      <th>cement_type</th>\n",
       "      <th>planned_pour_tonnes</th>\n",
       "      <th>consumed_tonnes</th>\n",
       "      <th>opening_inventory_tonnes</th>\n",
       "      <th>deliveries_tonnes</th>\n",
       "      <th>closing_inventory_tonnes</th>\n",
       "      <th>rain_mm</th>\n",
       "      <th>avg_temp_c</th>\n",
       "      <th>silo_capacity_x</th>\n",
       "      <th>region</th>\n",
       "      <th>silo_capacity_y</th>\n",
       "      <th>behavior</th>\n",
       "    </tr>\n",
       "  </thead>\n",
       "  <tbody>\n",
       "    <tr>\n",
       "      <th>32875</th>\n",
       "      <td>2024-12-27</td>\n",
       "      <td>SITE_030</td>\n",
       "      <td>CEM_III</td>\n",
       "      <td>58.48</td>\n",
       "      <td>29.63</td>\n",
       "      <td>0.0</td>\n",
       "      <td>29.63</td>\n",
       "      <td>0.0</td>\n",
       "      <td>7.17</td>\n",
       "      <td>12.00</td>\n",
       "      <td>316</td>\n",
       "      <td>South</td>\n",
       "      <td>316</td>\n",
       "      <td>aggressive</td>\n",
       "    </tr>\n",
       "    <tr>\n",
       "      <th>32876</th>\n",
       "      <td>2024-12-28</td>\n",
       "      <td>SITE_030</td>\n",
       "      <td>CEM_I</td>\n",
       "      <td>45.39</td>\n",
       "      <td>22.35</td>\n",
       "      <td>0.0</td>\n",
       "      <td>22.35</td>\n",
       "      <td>0.0</td>\n",
       "      <td>2.13</td>\n",
       "      <td>8.04</td>\n",
       "      <td>316</td>\n",
       "      <td>South</td>\n",
       "      <td>316</td>\n",
       "      <td>aggressive</td>\n",
       "    </tr>\n",
       "    <tr>\n",
       "      <th>32877</th>\n",
       "      <td>2024-12-29</td>\n",
       "      <td>SITE_030</td>\n",
       "      <td>CEM_III</td>\n",
       "      <td>58.47</td>\n",
       "      <td>14.21</td>\n",
       "      <td>0.0</td>\n",
       "      <td>14.21</td>\n",
       "      <td>0.0</td>\n",
       "      <td>0.28</td>\n",
       "      <td>2.26</td>\n",
       "      <td>316</td>\n",
       "      <td>South</td>\n",
       "      <td>316</td>\n",
       "      <td>aggressive</td>\n",
       "    </tr>\n",
       "    <tr>\n",
       "      <th>32878</th>\n",
       "      <td>2024-12-30</td>\n",
       "      <td>SITE_030</td>\n",
       "      <td>CEM_II</td>\n",
       "      <td>59.58</td>\n",
       "      <td>10.65</td>\n",
       "      <td>0.0</td>\n",
       "      <td>10.65</td>\n",
       "      <td>0.0</td>\n",
       "      <td>4.58</td>\n",
       "      <td>9.55</td>\n",
       "      <td>316</td>\n",
       "      <td>South</td>\n",
       "      <td>316</td>\n",
       "      <td>aggressive</td>\n",
       "    </tr>\n",
       "    <tr>\n",
       "      <th>32879</th>\n",
       "      <td>2024-12-31</td>\n",
       "      <td>SITE_030</td>\n",
       "      <td>CEM_I</td>\n",
       "      <td>48.17</td>\n",
       "      <td>16.74</td>\n",
       "      <td>0.0</td>\n",
       "      <td>16.74</td>\n",
       "      <td>0.0</td>\n",
       "      <td>6.04</td>\n",
       "      <td>23.24</td>\n",
       "      <td>316</td>\n",
       "      <td>South</td>\n",
       "      <td>316</td>\n",
       "      <td>aggressive</td>\n",
       "    </tr>\n",
       "  </tbody>\n",
       "</table>\n",
       "</div>"
      ],
      "text/plain": [
       "            date   site_id cement_type  planned_pour_tonnes  consumed_tonnes  \\\n",
       "32875 2024-12-27  SITE_030     CEM_III                58.48            29.63   \n",
       "32876 2024-12-28  SITE_030       CEM_I                45.39            22.35   \n",
       "32877 2024-12-29  SITE_030     CEM_III                58.47            14.21   \n",
       "32878 2024-12-30  SITE_030      CEM_II                59.58            10.65   \n",
       "32879 2024-12-31  SITE_030       CEM_I                48.17            16.74   \n",
       "\n",
       "       opening_inventory_tonnes  deliveries_tonnes  closing_inventory_tonnes  \\\n",
       "32875                       0.0              29.63                       0.0   \n",
       "32876                       0.0              22.35                       0.0   \n",
       "32877                       0.0              14.21                       0.0   \n",
       "32878                       0.0              10.65                       0.0   \n",
       "32879                       0.0              16.74                       0.0   \n",
       "\n",
       "       rain_mm  avg_temp_c  silo_capacity_x region  silo_capacity_y  \\\n",
       "32875     7.17       12.00              316  South              316   \n",
       "32876     2.13        8.04              316  South              316   \n",
       "32877     0.28        2.26              316  South              316   \n",
       "32878     4.58        9.55              316  South              316   \n",
       "32879     6.04       23.24              316  South              316   \n",
       "\n",
       "         behavior  \n",
       "32875  aggressive  \n",
       "32876  aggressive  \n",
       "32877  aggressive  \n",
       "32878  aggressive  \n",
       "32879  aggressive  "
      ]
     },
     "execution_count": 37,
     "metadata": {},
     "output_type": "execute_result"
    }
   ],
   "source": [
    "df_merged.tail()"
   ]
  },
  {
   "cell_type": "code",
   "execution_count": 38,
   "id": "b2e43200-665a-47c8-b985-bb5bd6a4cebd",
   "metadata": {},
   "outputs": [
    {
     "data": {
      "text/plain": [
       "Index(['date', 'site_id', 'cement_type', 'planned_pour_tonnes',\n",
       "       'consumed_tonnes', 'opening_inventory_tonnes', 'deliveries_tonnes',\n",
       "       'closing_inventory_tonnes', 'rain_mm', 'avg_temp_c', 'silo_capacity_x',\n",
       "       'region', 'silo_capacity_y', 'behavior'],\n",
       "      dtype='object')"
      ]
     },
     "execution_count": 38,
     "metadata": {},
     "output_type": "execute_result"
    }
   ],
   "source": [
    "df_merged.columns"
   ]
  },
  {
   "cell_type": "code",
   "execution_count": 39,
   "id": "03320f0d-7a3a-4492-90bd-a8eefb237e74",
   "metadata": {},
   "outputs": [
    {
     "data": {
      "text/plain": [
       "(32880, 14)"
      ]
     },
     "execution_count": 39,
     "metadata": {},
     "output_type": "execute_result"
    }
   ],
   "source": [
    "df_merged.shape"
   ]
  },
  {
   "cell_type": "code",
   "execution_count": 40,
   "id": "f1de2ede-e3a3-4aef-8573-1ac3b5802b77",
   "metadata": {},
   "outputs": [
    {
     "data": {
      "text/plain": [
       "date                        0\n",
       "site_id                     0\n",
       "cement_type                 0\n",
       "planned_pour_tonnes         0\n",
       "consumed_tonnes             0\n",
       "opening_inventory_tonnes    0\n",
       "deliveries_tonnes           0\n",
       "closing_inventory_tonnes    0\n",
       "rain_mm                     0\n",
       "avg_temp_c                  0\n",
       "silo_capacity_x             0\n",
       "region                      0\n",
       "silo_capacity_y             0\n",
       "behavior                    0\n",
       "dtype: int64"
      ]
     },
     "execution_count": 40,
     "metadata": {},
     "output_type": "execute_result"
    }
   ],
   "source": [
    "df_merged.isnull().sum()"
   ]
  },
  {
   "cell_type": "code",
   "execution_count": 41,
   "id": "67b6a2ea-6204-43bb-bb8d-e8494beb80c4",
   "metadata": {},
   "outputs": [
    {
     "name": "stdout",
     "output_type": "stream",
     "text": [
      "<class 'pandas.core.frame.DataFrame'>\n",
      "RangeIndex: 32880 entries, 0 to 32879\n",
      "Data columns (total 14 columns):\n",
      " #   Column                    Non-Null Count  Dtype         \n",
      "---  ------                    --------------  -----         \n",
      " 0   date                      32880 non-null  datetime64[ns]\n",
      " 1   site_id                   32880 non-null  category      \n",
      " 2   cement_type               32880 non-null  category      \n",
      " 3   planned_pour_tonnes       32880 non-null  float64       \n",
      " 4   consumed_tonnes           32880 non-null  float64       \n",
      " 5   opening_inventory_tonnes  32880 non-null  float64       \n",
      " 6   deliveries_tonnes         32880 non-null  float64       \n",
      " 7   closing_inventory_tonnes  32880 non-null  float64       \n",
      " 8   rain_mm                   32880 non-null  float64       \n",
      " 9   avg_temp_c                32880 non-null  float64       \n",
      " 10  silo_capacity_x           32880 non-null  int64         \n",
      " 11  region                    32880 non-null  object        \n",
      " 12  silo_capacity_y           32880 non-null  int64         \n",
      " 13  behavior                  32880 non-null  object        \n",
      "dtypes: category(2), datetime64[ns](1), float64(7), int64(2), object(2)\n",
      "memory usage: 3.1+ MB\n"
     ]
    }
   ],
   "source": [
    "df_merged.info()"
   ]
  },
  {
   "cell_type": "code",
   "execution_count": 42,
   "id": "df116d1c-9aaa-4f8b-9746-177b5253ed97",
   "metadata": {},
   "outputs": [
    {
     "data": {
      "text/html": [
       "<div>\n",
       "<style scoped>\n",
       "    .dataframe tbody tr th:only-of-type {\n",
       "        vertical-align: middle;\n",
       "    }\n",
       "\n",
       "    .dataframe tbody tr th {\n",
       "        vertical-align: top;\n",
       "    }\n",
       "\n",
       "    .dataframe thead th {\n",
       "        text-align: right;\n",
       "    }\n",
       "</style>\n",
       "<table border=\"1\" class=\"dataframe\">\n",
       "  <thead>\n",
       "    <tr style=\"text-align: right;\">\n",
       "      <th></th>\n",
       "      <th>silo_capacity_x</th>\n",
       "      <th>silo_capacity_y</th>\n",
       "    </tr>\n",
       "  </thead>\n",
       "  <tbody>\n",
       "    <tr>\n",
       "      <th>0</th>\n",
       "      <td>448</td>\n",
       "      <td>448</td>\n",
       "    </tr>\n",
       "    <tr>\n",
       "      <th>1</th>\n",
       "      <td>448</td>\n",
       "      <td>448</td>\n",
       "    </tr>\n",
       "    <tr>\n",
       "      <th>2</th>\n",
       "      <td>448</td>\n",
       "      <td>448</td>\n",
       "    </tr>\n",
       "    <tr>\n",
       "      <th>3</th>\n",
       "      <td>448</td>\n",
       "      <td>448</td>\n",
       "    </tr>\n",
       "    <tr>\n",
       "      <th>4</th>\n",
       "      <td>448</td>\n",
       "      <td>448</td>\n",
       "    </tr>\n",
       "  </tbody>\n",
       "</table>\n",
       "</div>"
      ],
      "text/plain": [
       "   silo_capacity_x  silo_capacity_y\n",
       "0              448              448\n",
       "1              448              448\n",
       "2              448              448\n",
       "3              448              448\n",
       "4              448              448"
      ]
     },
     "execution_count": 42,
     "metadata": {},
     "output_type": "execute_result"
    }
   ],
   "source": [
    "df_merged[['silo_capacity_x','silo_capacity_y']].head()"
   ]
  },
  {
   "cell_type": "code",
   "execution_count": 43,
   "id": "ae7c550b-ba39-431a-9466-c94041dc2902",
   "metadata": {},
   "outputs": [],
   "source": [
    "df_merged.drop('silo_capacity_y', axis=1, inplace=True)"
   ]
  },
  {
   "cell_type": "code",
   "execution_count": 44,
   "id": "8b302064-e2dd-4dd9-bff3-d213b5d319a2",
   "metadata": {},
   "outputs": [],
   "source": [
    "df_merged.rename(columns={'silo_capacity_x': 'silo_capacity'}, inplace=True)"
   ]
  },
  {
   "cell_type": "code",
   "execution_count": 45,
   "id": "5de6a161-a4cf-4186-8281-b2e1b0708931",
   "metadata": {},
   "outputs": [
    {
     "data": {
      "text/html": [
       "<div>\n",
       "<style scoped>\n",
       "    .dataframe tbody tr th:only-of-type {\n",
       "        vertical-align: middle;\n",
       "    }\n",
       "\n",
       "    .dataframe tbody tr th {\n",
       "        vertical-align: top;\n",
       "    }\n",
       "\n",
       "    .dataframe thead th {\n",
       "        text-align: right;\n",
       "    }\n",
       "</style>\n",
       "<table border=\"1\" class=\"dataframe\">\n",
       "  <thead>\n",
       "    <tr style=\"text-align: right;\">\n",
       "      <th></th>\n",
       "      <th>date</th>\n",
       "      <th>site_id</th>\n",
       "      <th>cement_type</th>\n",
       "      <th>planned_pour_tonnes</th>\n",
       "      <th>consumed_tonnes</th>\n",
       "      <th>opening_inventory_tonnes</th>\n",
       "      <th>deliveries_tonnes</th>\n",
       "      <th>closing_inventory_tonnes</th>\n",
       "      <th>rain_mm</th>\n",
       "      <th>avg_temp_c</th>\n",
       "      <th>silo_capacity</th>\n",
       "      <th>region</th>\n",
       "      <th>behavior</th>\n",
       "    </tr>\n",
       "  </thead>\n",
       "  <tbody>\n",
       "    <tr>\n",
       "      <th>0</th>\n",
       "      <td>2022-01-01</td>\n",
       "      <td>SITE_001</td>\n",
       "      <td>CEM_II</td>\n",
       "      <td>43.18</td>\n",
       "      <td>34.54</td>\n",
       "      <td>52.56</td>\n",
       "      <td>45.83</td>\n",
       "      <td>63.85</td>\n",
       "      <td>3.40</td>\n",
       "      <td>-3.10</td>\n",
       "      <td>448</td>\n",
       "      <td>North</td>\n",
       "      <td>aggressive</td>\n",
       "    </tr>\n",
       "    <tr>\n",
       "      <th>1</th>\n",
       "      <td>2022-01-02</td>\n",
       "      <td>SITE_001</td>\n",
       "      <td>CEM_I</td>\n",
       "      <td>45.26</td>\n",
       "      <td>45.26</td>\n",
       "      <td>63.85</td>\n",
       "      <td>19.97</td>\n",
       "      <td>38.56</td>\n",
       "      <td>3.23</td>\n",
       "      <td>14.28</td>\n",
       "      <td>448</td>\n",
       "      <td>North</td>\n",
       "      <td>aggressive</td>\n",
       "    </tr>\n",
       "    <tr>\n",
       "      <th>2</th>\n",
       "      <td>2022-01-03</td>\n",
       "      <td>SITE_001</td>\n",
       "      <td>CEM_III</td>\n",
       "      <td>38.69</td>\n",
       "      <td>38.69</td>\n",
       "      <td>38.56</td>\n",
       "      <td>47.19</td>\n",
       "      <td>47.06</td>\n",
       "      <td>2.64</td>\n",
       "      <td>6.40</td>\n",
       "      <td>448</td>\n",
       "      <td>North</td>\n",
       "      <td>aggressive</td>\n",
       "    </tr>\n",
       "    <tr>\n",
       "      <th>3</th>\n",
       "      <td>2022-01-04</td>\n",
       "      <td>SITE_001</td>\n",
       "      <td>CEM_I</td>\n",
       "      <td>33.16</td>\n",
       "      <td>33.16</td>\n",
       "      <td>47.06</td>\n",
       "      <td>18.74</td>\n",
       "      <td>32.64</td>\n",
       "      <td>8.25</td>\n",
       "      <td>14.23</td>\n",
       "      <td>448</td>\n",
       "      <td>North</td>\n",
       "      <td>aggressive</td>\n",
       "    </tr>\n",
       "    <tr>\n",
       "      <th>4</th>\n",
       "      <td>2022-01-05</td>\n",
       "      <td>SITE_001</td>\n",
       "      <td>CEM_III</td>\n",
       "      <td>56.88</td>\n",
       "      <td>47.04</td>\n",
       "      <td>32.64</td>\n",
       "      <td>14.40</td>\n",
       "      <td>0.00</td>\n",
       "      <td>2.69</td>\n",
       "      <td>8.97</td>\n",
       "      <td>448</td>\n",
       "      <td>North</td>\n",
       "      <td>aggressive</td>\n",
       "    </tr>\n",
       "  </tbody>\n",
       "</table>\n",
       "</div>"
      ],
      "text/plain": [
       "        date   site_id cement_type  planned_pour_tonnes  consumed_tonnes  \\\n",
       "0 2022-01-01  SITE_001      CEM_II                43.18            34.54   \n",
       "1 2022-01-02  SITE_001       CEM_I                45.26            45.26   \n",
       "2 2022-01-03  SITE_001     CEM_III                38.69            38.69   \n",
       "3 2022-01-04  SITE_001       CEM_I                33.16            33.16   \n",
       "4 2022-01-05  SITE_001     CEM_III                56.88            47.04   \n",
       "\n",
       "   opening_inventory_tonnes  deliveries_tonnes  closing_inventory_tonnes  \\\n",
       "0                     52.56              45.83                     63.85   \n",
       "1                     63.85              19.97                     38.56   \n",
       "2                     38.56              47.19                     47.06   \n",
       "3                     47.06              18.74                     32.64   \n",
       "4                     32.64              14.40                      0.00   \n",
       "\n",
       "   rain_mm  avg_temp_c  silo_capacity region    behavior  \n",
       "0     3.40       -3.10            448  North  aggressive  \n",
       "1     3.23       14.28            448  North  aggressive  \n",
       "2     2.64        6.40            448  North  aggressive  \n",
       "3     8.25       14.23            448  North  aggressive  \n",
       "4     2.69        8.97            448  North  aggressive  "
      ]
     },
     "execution_count": 45,
     "metadata": {},
     "output_type": "execute_result"
    }
   ],
   "source": [
    "df_merged.head()"
   ]
  },
  {
   "cell_type": "code",
   "execution_count": 46,
   "id": "6436b5a6-7e45-4a0a-bd51-53d9e296d5cb",
   "metadata": {},
   "outputs": [
    {
     "name": "stdout",
     "output_type": "stream",
     "text": [
      "<class 'pandas.core.frame.DataFrame'>\n",
      "RangeIndex: 32880 entries, 0 to 32879\n",
      "Data columns (total 13 columns):\n",
      " #   Column                    Non-Null Count  Dtype         \n",
      "---  ------                    --------------  -----         \n",
      " 0   date                      32880 non-null  datetime64[ns]\n",
      " 1   site_id                   32880 non-null  category      \n",
      " 2   cement_type               32880 non-null  category      \n",
      " 3   planned_pour_tonnes       32880 non-null  float64       \n",
      " 4   consumed_tonnes           32880 non-null  float64       \n",
      " 5   opening_inventory_tonnes  32880 non-null  float64       \n",
      " 6   deliveries_tonnes         32880 non-null  float64       \n",
      " 7   closing_inventory_tonnes  32880 non-null  float64       \n",
      " 8   rain_mm                   32880 non-null  float64       \n",
      " 9   avg_temp_c                32880 non-null  float64       \n",
      " 10  silo_capacity             32880 non-null  int64         \n",
      " 11  region                    32880 non-null  object        \n",
      " 12  behavior                  32880 non-null  object        \n",
      "dtypes: category(2), datetime64[ns](1), float64(7), int64(1), object(2)\n",
      "memory usage: 2.8+ MB\n"
     ]
    }
   ],
   "source": [
    "df_merged.info()"
   ]
  },
  {
   "cell_type": "code",
   "execution_count": 47,
   "id": "adb3f6f8-375a-460b-bfbf-169d154ce647",
   "metadata": {},
   "outputs": [
    {
     "data": {
      "text/plain": [
       "Index(['date', 'site_id', 'cement_type', 'planned_pour_tonnes',\n",
       "       'consumed_tonnes', 'opening_inventory_tonnes', 'deliveries_tonnes',\n",
       "       'closing_inventory_tonnes', 'rain_mm', 'avg_temp_c', 'silo_capacity',\n",
       "       'region', 'behavior'],\n",
       "      dtype='object')"
      ]
     },
     "execution_count": 47,
     "metadata": {},
     "output_type": "execute_result"
    }
   ],
   "source": [
    "df_merged.columns"
   ]
  },
  {
   "cell_type": "code",
   "execution_count": 48,
   "id": "a9bbc3e4-62a7-461b-82a7-2e30a1242447",
   "metadata": {},
   "outputs": [
    {
     "data": {
      "text/html": [
       "<div>\n",
       "<style scoped>\n",
       "    .dataframe tbody tr th:only-of-type {\n",
       "        vertical-align: middle;\n",
       "    }\n",
       "\n",
       "    .dataframe tbody tr th {\n",
       "        vertical-align: top;\n",
       "    }\n",
       "\n",
       "    .dataframe thead th {\n",
       "        text-align: right;\n",
       "    }\n",
       "</style>\n",
       "<table border=\"1\" class=\"dataframe\">\n",
       "  <thead>\n",
       "    <tr style=\"text-align: right;\">\n",
       "      <th></th>\n",
       "      <th>site_id</th>\n",
       "      <th>cement_type</th>\n",
       "    </tr>\n",
       "  </thead>\n",
       "  <tbody>\n",
       "    <tr>\n",
       "      <th>count</th>\n",
       "      <td>32880</td>\n",
       "      <td>32880</td>\n",
       "    </tr>\n",
       "    <tr>\n",
       "      <th>unique</th>\n",
       "      <td>30</td>\n",
       "      <td>3</td>\n",
       "    </tr>\n",
       "    <tr>\n",
       "      <th>top</th>\n",
       "      <td>SITE_001</td>\n",
       "      <td>CEM_II</td>\n",
       "    </tr>\n",
       "    <tr>\n",
       "      <th>freq</th>\n",
       "      <td>1096</td>\n",
       "      <td>11097</td>\n",
       "    </tr>\n",
       "  </tbody>\n",
       "</table>\n",
       "</div>"
      ],
      "text/plain": [
       "         site_id cement_type\n",
       "count      32880       32880\n",
       "unique        30           3\n",
       "top     SITE_001      CEM_II\n",
       "freq        1096       11097"
      ]
     },
     "execution_count": 48,
     "metadata": {},
     "output_type": "execute_result"
    }
   ],
   "source": [
    "df_merged.describe(include='category')"
   ]
  },
  {
   "cell_type": "code",
   "execution_count": 49,
   "id": "3908c152-2c6a-4943-9708-9159655bdde7",
   "metadata": {},
   "outputs": [
    {
     "data": {
      "text/plain": [
       "region\n",
       "East     13152\n",
       "South    12056\n",
       "West      4384\n",
       "North     3288\n",
       "Name: count, dtype: int64"
      ]
     },
     "execution_count": 49,
     "metadata": {},
     "output_type": "execute_result"
    }
   ],
   "source": [
    "df_merged['region'].value_counts()"
   ]
  },
  {
   "cell_type": "code",
   "execution_count": 50,
   "id": "9e7559a8-7b25-44d2-9bb2-590cef20522c",
   "metadata": {},
   "outputs": [
    {
     "data": {
      "text/plain": [
       "cement_type\n",
       "CEM_II     11097\n",
       "CEM_I      10913\n",
       "CEM_III    10870\n",
       "Name: count, dtype: int64"
      ]
     },
     "execution_count": 50,
     "metadata": {},
     "output_type": "execute_result"
    }
   ],
   "source": [
    "df_merged['cement_type'].value_counts()"
   ]
  },
  {
   "cell_type": "code",
   "execution_count": 51,
   "id": "7cd04a6e-9553-4e3a-a337-70038d0e6173",
   "metadata": {},
   "outputs": [],
   "source": [
    "import seaborn as sns"
   ]
  },
  {
   "cell_type": "code",
   "execution_count": 52,
   "id": "45311cb0-03c3-4b13-b555-1b2def3a261c",
   "metadata": {},
   "outputs": [
    {
     "data": {
      "text/plain": [
       "dtype('float64')"
      ]
     },
     "execution_count": 52,
     "metadata": {},
     "output_type": "execute_result"
    }
   ],
   "source": [
    "df_merged['planned_pour_tonnes'].dtypes"
   ]
  },
  {
   "cell_type": "code",
   "execution_count": 53,
   "id": "d7b9be88-5981-46ed-9709-069eaa8fd824",
   "metadata": {},
   "outputs": [],
   "source": [
    "#sns.lineplot(x='date', y='planned_pour_tonnes', hue='site_id', data=df_merged)"
   ]
  },
  {
   "cell_type": "code",
   "execution_count": 54,
   "id": "6c2bc767-b4db-4e1e-a455-0c7eced1e267",
   "metadata": {},
   "outputs": [],
   "source": [
    "#sns.heatmap(df_merged.corr(), annot=True)"
   ]
  },
  {
   "cell_type": "code",
   "execution_count": 55,
   "id": "01be96f3-ed39-425c-842a-e1df5b9d7e9d",
   "metadata": {},
   "outputs": [],
   "source": [
    "numeric_col =  ['planned_pour_tonnes',\n",
    "       'consumed_tonnes', 'opening_inventory_tonnes', 'deliveries_tonnes',\n",
    "       'closing_inventory_tonnes', 'rain_mm', 'avg_temp_c']"
   ]
  },
  {
   "cell_type": "code",
   "execution_count": 56,
   "id": "18060ea4-ff4c-444d-9354-835f428ee181",
   "metadata": {},
   "outputs": [
    {
     "data": {
      "text/plain": [
       "planned_pour_tonnes            0\n",
       "consumed_tonnes                0\n",
       "opening_inventory_tonnes       0\n",
       "deliveries_tonnes              0\n",
       "closing_inventory_tonnes       0\n",
       "rain_mm                        0\n",
       "avg_temp_c                  4551\n",
       "dtype: int64"
      ]
     },
     "execution_count": 56,
     "metadata": {},
     "output_type": "execute_result"
    }
   ],
   "source": [
    "(df_merged[numeric_col] < 0).sum()"
   ]
  },
  {
   "cell_type": "code",
   "execution_count": 57,
   "id": "ca48977f-3ef5-4b37-8077-17d818fa9f8e",
   "metadata": {},
   "outputs": [],
   "source": [
    "df_merged['inventory_check'] = (df_merged['opening_inventory_tonnes'] + df_merged['deliveries_tonnes'] - df_merged['consumed_tonnes']).round(2) == df_merged['closing_inventory_tonnes'].round(2)"
   ]
  },
  {
   "cell_type": "code",
   "execution_count": 58,
   "id": "40a7096d-306a-4f10-a7a4-603104bf07ae",
   "metadata": {},
   "outputs": [
    {
     "data": {
      "text/plain": [
       "np.float64(0.999787104622871)"
      ]
     },
     "execution_count": 58,
     "metadata": {},
     "output_type": "execute_result"
    }
   ],
   "source": [
    "df_merged['inventory_check'].mean()"
   ]
  },
  {
   "cell_type": "markdown",
   "id": "d7cfb81a-bfa4-4522-8099-08f1cfb69ec2",
   "metadata": {},
   "source": [
    "# KPI Analysis"
   ]
  },
  {
   "cell_type": "code",
   "execution_count": 59,
   "id": "2c834e34-8ece-496e-b413-10328d2104fc",
   "metadata": {},
   "outputs": [],
   "source": [
    "df_merged['stockout'] = df_merged['planned_pour_tonnes'] > (df_merged['opening_inventory_tonnes'] + df_merged['deliveries_tonnes'])"
   ]
  },
  {
   "cell_type": "code",
   "execution_count": 60,
   "id": "ce0d5185-8109-4fdd-a7b0-0976813cc04c",
   "metadata": {},
   "outputs": [],
   "source": [
    "df_merged['overcapacity'] = df_merged['closing_inventory_tonnes'] > df_merged['silo_capacity']"
   ]
  },
  {
   "cell_type": "code",
   "execution_count": 61,
   "id": "d2b80369-eaa6-4aee-95e5-7a524a2f107f",
   "metadata": {},
   "outputs": [],
   "source": [
    "df_merged['idle'] = (df_merged['planned_pour_tonnes'] == 0) & (df_merged['deliveries_tonnes'] == 0)"
   ]
  },
  {
   "cell_type": "code",
   "execution_count": 62,
   "id": "dea67e56-e0d8-47ac-9fe0-6062d0f4a012",
   "metadata": {},
   "outputs": [],
   "source": [
    "df_merged['waste_risk'] = (df_merged['closing_inventory_tonnes'] > 0.85 * df_merged['silo_capacity']) & (df_merged['planned_pour_tonnes'] < 5)"
   ]
  },
  {
   "cell_type": "code",
   "execution_count": 63,
   "id": "1b6237c0-24b3-4e7e-a985-adc96b12c1b5",
   "metadata": {},
   "outputs": [],
   "source": [
    "df_merged['pour_disrupted'] = (df_merged['planned_pour_tonnes'] > 0) & (df_merged['consumed_tonnes'] == 0)"
   ]
  },
  {
   "cell_type": "markdown",
   "id": "1ca67495-1717-4bb4-96db-5e9d4b09cbc2",
   "metadata": {},
   "source": [
    "# KPI Summary"
   ]
  },
  {
   "cell_type": "code",
   "execution_count": 64,
   "id": "06c85374-a06d-401c-a731-9c44f64f6185",
   "metadata": {},
   "outputs": [
    {
     "name": "stderr",
     "output_type": "stream",
     "text": [
      "/var/folders/g7/9205nqf15675vhtcpl9dwjv80000gn/T/ipykernel_1109/2591993760.py:1: FutureWarning: The default of observed=False is deprecated and will be changed to True in a future version of pandas. Pass observed=False to retain current behavior or observed=True to adopt the future default and silence this warning.\n",
      "  kpi_summary = df_merged.groupby('site_id').agg(\n"
     ]
    }
   ],
   "source": [
    "kpi_summary = df_merged.groupby('site_id').agg(\n",
    "    total_days = ('date', 'count'),\n",
    "    total_consumed_tonnes = ('consumed_tonnes', 'sum'),\n",
    "    avg_daily_consumed = ('consumed_tonnes','mean'),\n",
    "    stockout_pct = ('stockout', lambda x: round(x.mean() * 100, 2)),\n",
    "    overcapacity_pct = ('overcapacity', lambda x: round(x.mean() * 100, 2)),\n",
    "    idle_pct = ('idle', lambda x: round(x.mean() * 100, 2)),\n",
    "    waste_risk_pct = ('pour_disrupted', lambda x: round(x.mean() * 100, 2)),\n",
    "    silo_capacity = ('silo_capacity', 'first')\n",
    ").reset_index()"
   ]
  },
  {
   "cell_type": "code",
   "execution_count": 65,
   "id": "ab593ac7-98c1-46ed-bbfd-876ec7b0a31f",
   "metadata": {},
   "outputs": [
    {
     "data": {
      "text/html": [
       "<div>\n",
       "<style scoped>\n",
       "    .dataframe tbody tr th:only-of-type {\n",
       "        vertical-align: middle;\n",
       "    }\n",
       "\n",
       "    .dataframe tbody tr th {\n",
       "        vertical-align: top;\n",
       "    }\n",
       "\n",
       "    .dataframe thead th {\n",
       "        text-align: right;\n",
       "    }\n",
       "</style>\n",
       "<table border=\"1\" class=\"dataframe\">\n",
       "  <thead>\n",
       "    <tr style=\"text-align: right;\">\n",
       "      <th></th>\n",
       "      <th>site_id</th>\n",
       "      <th>total_days</th>\n",
       "      <th>total_consumed_tonnes</th>\n",
       "      <th>avg_daily_consumed</th>\n",
       "      <th>stockout_pct</th>\n",
       "      <th>overcapacity_pct</th>\n",
       "      <th>idle_pct</th>\n",
       "      <th>waste_risk_pct</th>\n",
       "      <th>silo_capacity</th>\n",
       "    </tr>\n",
       "  </thead>\n",
       "  <tbody>\n",
       "    <tr>\n",
       "      <th>0</th>\n",
       "      <td>SITE_001</td>\n",
       "      <td>1096</td>\n",
       "      <td>33056.40</td>\n",
       "      <td>30.160949</td>\n",
       "      <td>55.75</td>\n",
       "      <td>0.00</td>\n",
       "      <td>0.00</td>\n",
       "      <td>4.84</td>\n",
       "      <td>448</td>\n",
       "    </tr>\n",
       "    <tr>\n",
       "      <th>1</th>\n",
       "      <td>SITE_002</td>\n",
       "      <td>1096</td>\n",
       "      <td>12900.44</td>\n",
       "      <td>11.770474</td>\n",
       "      <td>0.00</td>\n",
       "      <td>98.81</td>\n",
       "      <td>0.00</td>\n",
       "      <td>0.00</td>\n",
       "      <td>288</td>\n",
       "    </tr>\n",
       "    <tr>\n",
       "      <th>2</th>\n",
       "      <td>SITE_003</td>\n",
       "      <td>1096</td>\n",
       "      <td>32520.09</td>\n",
       "      <td>29.671615</td>\n",
       "      <td>54.38</td>\n",
       "      <td>0.00</td>\n",
       "      <td>0.00</td>\n",
       "      <td>5.75</td>\n",
       "      <td>314</td>\n",
       "    </tr>\n",
       "    <tr>\n",
       "      <th>3</th>\n",
       "      <td>SITE_004</td>\n",
       "      <td>1096</td>\n",
       "      <td>12618.50</td>\n",
       "      <td>11.513230</td>\n",
       "      <td>0.00</td>\n",
       "      <td>98.08</td>\n",
       "      <td>0.00</td>\n",
       "      <td>0.00</td>\n",
       "      <td>472</td>\n",
       "    </tr>\n",
       "    <tr>\n",
       "      <th>4</th>\n",
       "      <td>SITE_005</td>\n",
       "      <td>1096</td>\n",
       "      <td>32935.68</td>\n",
       "      <td>30.050803</td>\n",
       "      <td>56.93</td>\n",
       "      <td>0.00</td>\n",
       "      <td>0.00</td>\n",
       "      <td>4.38</td>\n",
       "      <td>230</td>\n",
       "    </tr>\n",
       "    <tr>\n",
       "      <th>5</th>\n",
       "      <td>SITE_006</td>\n",
       "      <td>1096</td>\n",
       "      <td>28601.16</td>\n",
       "      <td>26.095949</td>\n",
       "      <td>16.15</td>\n",
       "      <td>0.00</td>\n",
       "      <td>2.55</td>\n",
       "      <td>3.47</td>\n",
       "      <td>443</td>\n",
       "    </tr>\n",
       "    <tr>\n",
       "      <th>6</th>\n",
       "      <td>SITE_007</td>\n",
       "      <td>1096</td>\n",
       "      <td>32607.65</td>\n",
       "      <td>29.751505</td>\n",
       "      <td>57.03</td>\n",
       "      <td>0.00</td>\n",
       "      <td>0.00</td>\n",
       "      <td>5.20</td>\n",
       "      <td>485</td>\n",
       "    </tr>\n",
       "    <tr>\n",
       "      <th>7</th>\n",
       "      <td>SITE_008</td>\n",
       "      <td>1096</td>\n",
       "      <td>32689.50</td>\n",
       "      <td>29.826186</td>\n",
       "      <td>60.49</td>\n",
       "      <td>0.00</td>\n",
       "      <td>0.00</td>\n",
       "      <td>4.47</td>\n",
       "      <td>260</td>\n",
       "    </tr>\n",
       "    <tr>\n",
       "      <th>8</th>\n",
       "      <td>SITE_009</td>\n",
       "      <td>1096</td>\n",
       "      <td>12735.31</td>\n",
       "      <td>11.619808</td>\n",
       "      <td>0.00</td>\n",
       "      <td>98.81</td>\n",
       "      <td>0.00</td>\n",
       "      <td>0.00</td>\n",
       "      <td>352</td>\n",
       "    </tr>\n",
       "    <tr>\n",
       "      <th>9</th>\n",
       "      <td>SITE_010</td>\n",
       "      <td>1096</td>\n",
       "      <td>33579.76</td>\n",
       "      <td>30.638467</td>\n",
       "      <td>57.03</td>\n",
       "      <td>0.00</td>\n",
       "      <td>0.00</td>\n",
       "      <td>4.56</td>\n",
       "      <td>158</td>\n",
       "    </tr>\n",
       "    <tr>\n",
       "      <th>10</th>\n",
       "      <td>SITE_011</td>\n",
       "      <td>1096</td>\n",
       "      <td>32587.01</td>\n",
       "      <td>29.732673</td>\n",
       "      <td>61.04</td>\n",
       "      <td>0.00</td>\n",
       "      <td>0.00</td>\n",
       "      <td>5.20</td>\n",
       "      <td>287</td>\n",
       "    </tr>\n",
       "    <tr>\n",
       "      <th>11</th>\n",
       "      <td>SITE_012</td>\n",
       "      <td>1096</td>\n",
       "      <td>12414.32</td>\n",
       "      <td>11.326934</td>\n",
       "      <td>0.00</td>\n",
       "      <td>99.09</td>\n",
       "      <td>0.00</td>\n",
       "      <td>0.00</td>\n",
       "      <td>274</td>\n",
       "    </tr>\n",
       "    <tr>\n",
       "      <th>12</th>\n",
       "      <td>SITE_013</td>\n",
       "      <td>1096</td>\n",
       "      <td>29778.98</td>\n",
       "      <td>27.170602</td>\n",
       "      <td>8.94</td>\n",
       "      <td>50.82</td>\n",
       "      <td>1.55</td>\n",
       "      <td>4.47</td>\n",
       "      <td>154</td>\n",
       "    </tr>\n",
       "    <tr>\n",
       "      <th>13</th>\n",
       "      <td>SITE_014</td>\n",
       "      <td>1096</td>\n",
       "      <td>29338.97</td>\n",
       "      <td>26.769133</td>\n",
       "      <td>7.30</td>\n",
       "      <td>32.21</td>\n",
       "      <td>2.01</td>\n",
       "      <td>3.92</td>\n",
       "      <td>230</td>\n",
       "    </tr>\n",
       "    <tr>\n",
       "      <th>14</th>\n",
       "      <td>SITE_015</td>\n",
       "      <td>1096</td>\n",
       "      <td>12226.88</td>\n",
       "      <td>11.155912</td>\n",
       "      <td>0.00</td>\n",
       "      <td>99.54</td>\n",
       "      <td>0.00</td>\n",
       "      <td>0.00</td>\n",
       "      <td>120</td>\n",
       "    </tr>\n",
       "    <tr>\n",
       "      <th>15</th>\n",
       "      <td>SITE_016</td>\n",
       "      <td>1096</td>\n",
       "      <td>29339.46</td>\n",
       "      <td>26.769580</td>\n",
       "      <td>11.95</td>\n",
       "      <td>15.33</td>\n",
       "      <td>2.83</td>\n",
       "      <td>3.65</td>\n",
       "      <td>487</td>\n",
       "    </tr>\n",
       "    <tr>\n",
       "      <th>16</th>\n",
       "      <td>SITE_017</td>\n",
       "      <td>1096</td>\n",
       "      <td>32530.14</td>\n",
       "      <td>29.680785</td>\n",
       "      <td>58.49</td>\n",
       "      <td>0.00</td>\n",
       "      <td>0.00</td>\n",
       "      <td>4.84</td>\n",
       "      <td>341</td>\n",
       "    </tr>\n",
       "    <tr>\n",
       "      <th>17</th>\n",
       "      <td>SITE_018</td>\n",
       "      <td>1096</td>\n",
       "      <td>33348.09</td>\n",
       "      <td>30.427089</td>\n",
       "      <td>55.84</td>\n",
       "      <td>0.00</td>\n",
       "      <td>0.00</td>\n",
       "      <td>4.01</td>\n",
       "      <td>152</td>\n",
       "    </tr>\n",
       "    <tr>\n",
       "      <th>18</th>\n",
       "      <td>SITE_019</td>\n",
       "      <td>1096</td>\n",
       "      <td>12608.89</td>\n",
       "      <td>11.504462</td>\n",
       "      <td>0.00</td>\n",
       "      <td>98.08</td>\n",
       "      <td>0.00</td>\n",
       "      <td>0.00</td>\n",
       "      <td>466</td>\n",
       "    </tr>\n",
       "    <tr>\n",
       "      <th>19</th>\n",
       "      <td>SITE_020</td>\n",
       "      <td>1096</td>\n",
       "      <td>32585.67</td>\n",
       "      <td>29.731451</td>\n",
       "      <td>58.30</td>\n",
       "      <td>0.00</td>\n",
       "      <td>0.00</td>\n",
       "      <td>3.74</td>\n",
       "      <td>363</td>\n",
       "    </tr>\n",
       "    <tr>\n",
       "      <th>20</th>\n",
       "      <td>SITE_021</td>\n",
       "      <td>1096</td>\n",
       "      <td>33009.68</td>\n",
       "      <td>30.118321</td>\n",
       "      <td>59.12</td>\n",
       "      <td>0.00</td>\n",
       "      <td>0.00</td>\n",
       "      <td>5.02</td>\n",
       "      <td>180</td>\n",
       "    </tr>\n",
       "    <tr>\n",
       "      <th>21</th>\n",
       "      <td>SITE_022</td>\n",
       "      <td>1096</td>\n",
       "      <td>32934.03</td>\n",
       "      <td>30.049297</td>\n",
       "      <td>60.13</td>\n",
       "      <td>0.00</td>\n",
       "      <td>0.00</td>\n",
       "      <td>4.47</td>\n",
       "      <td>487</td>\n",
       "    </tr>\n",
       "    <tr>\n",
       "      <th>22</th>\n",
       "      <td>SITE_023</td>\n",
       "      <td>1096</td>\n",
       "      <td>12995.74</td>\n",
       "      <td>11.857427</td>\n",
       "      <td>0.00</td>\n",
       "      <td>99.00</td>\n",
       "      <td>0.00</td>\n",
       "      <td>0.00</td>\n",
       "      <td>153</td>\n",
       "    </tr>\n",
       "    <tr>\n",
       "      <th>23</th>\n",
       "      <td>SITE_024</td>\n",
       "      <td>1096</td>\n",
       "      <td>29919.14</td>\n",
       "      <td>27.298485</td>\n",
       "      <td>4.93</td>\n",
       "      <td>33.49</td>\n",
       "      <td>2.28</td>\n",
       "      <td>3.38</td>\n",
       "      <td>290</td>\n",
       "    </tr>\n",
       "    <tr>\n",
       "      <th>24</th>\n",
       "      <td>SITE_025</td>\n",
       "      <td>1096</td>\n",
       "      <td>33604.06</td>\n",
       "      <td>30.660639</td>\n",
       "      <td>56.48</td>\n",
       "      <td>0.00</td>\n",
       "      <td>0.00</td>\n",
       "      <td>4.93</td>\n",
       "      <td>261</td>\n",
       "    </tr>\n",
       "    <tr>\n",
       "      <th>25</th>\n",
       "      <td>SITE_026</td>\n",
       "      <td>1096</td>\n",
       "      <td>29875.39</td>\n",
       "      <td>27.258568</td>\n",
       "      <td>8.49</td>\n",
       "      <td>6.66</td>\n",
       "      <td>2.37</td>\n",
       "      <td>4.20</td>\n",
       "      <td>369</td>\n",
       "    </tr>\n",
       "    <tr>\n",
       "      <th>26</th>\n",
       "      <td>SITE_027</td>\n",
       "      <td>1096</td>\n",
       "      <td>12568.90</td>\n",
       "      <td>11.467974</td>\n",
       "      <td>0.00</td>\n",
       "      <td>98.72</td>\n",
       "      <td>0.00</td>\n",
       "      <td>0.00</td>\n",
       "      <td>314</td>\n",
       "    </tr>\n",
       "    <tr>\n",
       "      <th>27</th>\n",
       "      <td>SITE_028</td>\n",
       "      <td>1096</td>\n",
       "      <td>28947.34</td>\n",
       "      <td>26.411807</td>\n",
       "      <td>9.67</td>\n",
       "      <td>16.79</td>\n",
       "      <td>2.74</td>\n",
       "      <td>3.01</td>\n",
       "      <td>395</td>\n",
       "    </tr>\n",
       "    <tr>\n",
       "      <th>28</th>\n",
       "      <td>SITE_029</td>\n",
       "      <td>1096</td>\n",
       "      <td>12612.85</td>\n",
       "      <td>11.508075</td>\n",
       "      <td>0.00</td>\n",
       "      <td>98.27</td>\n",
       "      <td>0.00</td>\n",
       "      <td>0.00</td>\n",
       "      <td>437</td>\n",
       "    </tr>\n",
       "    <tr>\n",
       "      <th>29</th>\n",
       "      <td>SITE_030</td>\n",
       "      <td>1096</td>\n",
       "      <td>32459.18</td>\n",
       "      <td>29.616040</td>\n",
       "      <td>54.47</td>\n",
       "      <td>0.00</td>\n",
       "      <td>0.00</td>\n",
       "      <td>4.65</td>\n",
       "      <td>316</td>\n",
       "    </tr>\n",
       "  </tbody>\n",
       "</table>\n",
       "</div>"
      ],
      "text/plain": [
       "     site_id  total_days  total_consumed_tonnes  avg_daily_consumed  \\\n",
       "0   SITE_001        1096               33056.40           30.160949   \n",
       "1   SITE_002        1096               12900.44           11.770474   \n",
       "2   SITE_003        1096               32520.09           29.671615   \n",
       "3   SITE_004        1096               12618.50           11.513230   \n",
       "4   SITE_005        1096               32935.68           30.050803   \n",
       "5   SITE_006        1096               28601.16           26.095949   \n",
       "6   SITE_007        1096               32607.65           29.751505   \n",
       "7   SITE_008        1096               32689.50           29.826186   \n",
       "8   SITE_009        1096               12735.31           11.619808   \n",
       "9   SITE_010        1096               33579.76           30.638467   \n",
       "10  SITE_011        1096               32587.01           29.732673   \n",
       "11  SITE_012        1096               12414.32           11.326934   \n",
       "12  SITE_013        1096               29778.98           27.170602   \n",
       "13  SITE_014        1096               29338.97           26.769133   \n",
       "14  SITE_015        1096               12226.88           11.155912   \n",
       "15  SITE_016        1096               29339.46           26.769580   \n",
       "16  SITE_017        1096               32530.14           29.680785   \n",
       "17  SITE_018        1096               33348.09           30.427089   \n",
       "18  SITE_019        1096               12608.89           11.504462   \n",
       "19  SITE_020        1096               32585.67           29.731451   \n",
       "20  SITE_021        1096               33009.68           30.118321   \n",
       "21  SITE_022        1096               32934.03           30.049297   \n",
       "22  SITE_023        1096               12995.74           11.857427   \n",
       "23  SITE_024        1096               29919.14           27.298485   \n",
       "24  SITE_025        1096               33604.06           30.660639   \n",
       "25  SITE_026        1096               29875.39           27.258568   \n",
       "26  SITE_027        1096               12568.90           11.467974   \n",
       "27  SITE_028        1096               28947.34           26.411807   \n",
       "28  SITE_029        1096               12612.85           11.508075   \n",
       "29  SITE_030        1096               32459.18           29.616040   \n",
       "\n",
       "    stockout_pct  overcapacity_pct  idle_pct  waste_risk_pct  silo_capacity  \n",
       "0          55.75              0.00      0.00            4.84            448  \n",
       "1           0.00             98.81      0.00            0.00            288  \n",
       "2          54.38              0.00      0.00            5.75            314  \n",
       "3           0.00             98.08      0.00            0.00            472  \n",
       "4          56.93              0.00      0.00            4.38            230  \n",
       "5          16.15              0.00      2.55            3.47            443  \n",
       "6          57.03              0.00      0.00            5.20            485  \n",
       "7          60.49              0.00      0.00            4.47            260  \n",
       "8           0.00             98.81      0.00            0.00            352  \n",
       "9          57.03              0.00      0.00            4.56            158  \n",
       "10         61.04              0.00      0.00            5.20            287  \n",
       "11          0.00             99.09      0.00            0.00            274  \n",
       "12          8.94             50.82      1.55            4.47            154  \n",
       "13          7.30             32.21      2.01            3.92            230  \n",
       "14          0.00             99.54      0.00            0.00            120  \n",
       "15         11.95             15.33      2.83            3.65            487  \n",
       "16         58.49              0.00      0.00            4.84            341  \n",
       "17         55.84              0.00      0.00            4.01            152  \n",
       "18          0.00             98.08      0.00            0.00            466  \n",
       "19         58.30              0.00      0.00            3.74            363  \n",
       "20         59.12              0.00      0.00            5.02            180  \n",
       "21         60.13              0.00      0.00            4.47            487  \n",
       "22          0.00             99.00      0.00            0.00            153  \n",
       "23          4.93             33.49      2.28            3.38            290  \n",
       "24         56.48              0.00      0.00            4.93            261  \n",
       "25          8.49              6.66      2.37            4.20            369  \n",
       "26          0.00             98.72      0.00            0.00            314  \n",
       "27          9.67             16.79      2.74            3.01            395  \n",
       "28          0.00             98.27      0.00            0.00            437  \n",
       "29         54.47              0.00      0.00            4.65            316  "
      ]
     },
     "execution_count": 65,
     "metadata": {},
     "output_type": "execute_result"
    }
   ],
   "source": [
    "kpi_summary"
   ]
  },
  {
   "cell_type": "markdown",
   "id": "1d5359a9-5b4f-44d7-8832-e5e43489d758",
   "metadata": {},
   "source": [
    "# Exploratory Data Analysis"
   ]
  },
  {
   "cell_type": "code",
   "execution_count": 66,
   "id": "ed2d6598-fcb6-4781-bf3a-cc224a863b5f",
   "metadata": {},
   "outputs": [
    {
     "data": {
      "image/png": "[encoded data removed]",
      "text/plain": [
       "<Figure size 1200x600 with 1 Axes>"
      ]
     },
     "metadata": {},
     "output_type": "display_data"
    }
   ],
   "source": [
    "top_sites = kpi_summary.sort_values('total_consumed_tonnes', ascending = False).head(20)\n",
    "plt.figure(figsize = (12,6))\n",
    "plt.bar(top_sites['site_id'], top_sites['total_consumed_tonnes'])\n",
    "plt.xticks(rotation=45)\n",
    "plt.title('Top 20 Sites by total cement consumption')\n",
    "plt.ylim(25000, top_sites['total_consumed_tonnes'].max() * 1.1)\n",
    "plt.tight_layout()\n",
    "plt.show()"
   ]
  },
  {
   "cell_type": "code",
   "execution_count": 67,
   "id": "381234fd-dd2d-434d-b7c4-3fe855736018",
   "metadata": {},
   "outputs": [
    {
     "data": {
      "image/png": "[encoded data removed]",
      "text/plain": [
       "<Figure size 1200x600 with 1 Axes>"
      ]
     },
     "metadata": {},
     "output_type": "display_data"
    }
   ],
   "source": [
    "risk_sites = kpi_summary.sort_values('stockout_pct', ascending = False).head(20)\n",
    "plt.figure(figsize = (12,6))\n",
    "sns.barplot(x ='site_id', y='stockout_pct', data=risk_sites)\n",
    "plt.xticks(rotation=45)\n",
    "plt.title('Top 10 Sites by Stockout Risk (%)')\n",
    "plt.ylim(30, 70)\n",
    "plt.tight_layout()\n",
    "plt.show()"
   ]
  },
  {
   "cell_type": "code",
   "execution_count": 68,
   "id": "4d50dc6f-bcd2-430f-84bc-0f4f53b31c06",
   "metadata": {},
   "outputs": [
    {
     "data": {
      "image/png": "[encoded data removed]",
      "text/plain": [
       "<Figure size 1200x600 with 1 Axes>"
      ]
     },
     "metadata": {},
     "output_type": "display_data"
    }
   ],
   "source": [
    "overcapacity_sites = kpi_summary.sort_values('overcapacity_pct', ascending = False).head(10)\n",
    "plt.figure(figsize = (12,6))\n",
    "sns.barplot(x ='site_id', y='overcapacity_pct', data = overcapacity_sites)\n",
    "plt.xticks(rotation=45)\n",
    "plt.title('Top 10 Sites by Overcapacity (%)')\n",
    "#plt.ylim(30, 70)\n",
    "plt.tight_layout()\n",
    "plt.show()"
   ]
  },
  {
   "cell_type": "code",
   "execution_count": 70,
   "id": "7b9ff864-522b-4f43-bcf2-8f93618f1204",
   "metadata": {},
   "outputs": [
    {
     "data": {
      "image/png": "[encoded data removed]",
      "text/plain": [
       "<Figure size 1200x600 with 1 Axes>"
      ]
     },
     "metadata": {},
     "output_type": "display_data"
    }
   ],
   "source": [
    "idle_sites = kpi_summary.sort_values('idle_pct', ascending = False).head(10)\n",
    "plt.figure(figsize = (12,6))\n",
    "sns.barplot(x ='site_id', y='idle_pct', data = idle_sites)\n",
    "plt.xticks(rotation=45)\n",
    "plt.title('Top 10 Sites by Idle Days (%)')\n",
    "plt.tight_layout()\n",
    "plt.show()"
   ]
  },
  {
   "cell_type": "code",
   "execution_count": 71,
   "id": "6d0cc355-d6e7-47e5-9791-d5b18197701a",
   "metadata": {},
   "outputs": [
    {
     "data": {
      "image/png": "[encoded data removed]",
      "text/plain": [
       "<Figure size 1200x600 with 1 Axes>"
      ]
     },
     "metadata": {},
     "output_type": "display_data"
    }
   ],
   "source": [
    "waste_risk_sites = kpi_summary.sort_values('idle_pct', ascending=False).head(10)\n",
    "plt.figure(figsize=(12,6))\n",
    "sns.barplot(x='site_id', y='waste_risk_pct', data=waste_risk_sites)\n",
    "plt.xticks(rotation=45)\n",
    "plt.title('Top 10 sites by Waste Risk(%)')\n",
    "plt.tight_layout()\n",
    "plt.show()"
   ]
  },
  {
   "cell_type": "code",
   "execution_count": 72,
   "id": "9abf4f79-6023-4fbb-ba19-933605d41dfa",
   "metadata": {},
   "outputs": [],
   "source": [
    "df_merged['utilization_pct'] = df_merged['closing_inventory_tonnes']/df_merged['silo_capacity']"
   ]
  },
  {
   "cell_type": "code",
   "execution_count": 73,
   "id": "871cf5d4-d77e-4f94-8802-b83d40691d29",
   "metadata": {},
   "outputs": [
    {
     "name": "stderr",
     "output_type": "stream",
     "text": [
      "/var/folders/g7/9205nqf15675vhtcpl9dwjv80000gn/T/ipykernel_1109/653621661.py:1: FutureWarning: The default of observed=False is deprecated and will be changed to True in a future version of pandas. Pass observed=False to retain current behavior or observed=True to adopt the future default and silence this warning.\n",
      "  utilization_summary = df_merged.groupby('site_id')['utilization_pct'].mean().sort_values()\n"
     ]
    }
   ],
   "source": [
    "utilization_summary = df_merged.groupby('site_id')['utilization_pct'].mean().sort_values()"
   ]
  },
  {
   "cell_type": "code",
   "execution_count": 75,
   "id": "6e8bdf83-0824-486f-bb1c-710939868615",
   "metadata": {},
   "outputs": [
    {
     "data": {
      "text/plain": [
       "<Axes: title={'center': 'Average Silo Utilization by Site'}, xlabel='site_id'>"
      ]
     },
     "execution_count": 75,
     "metadata": {},
     "output_type": "execute_result"
    },
    {
     "data": {
      "image/png": "[encoded data removed]",
      "text/plain": [
       "<Figure size 1200x600 with 1 Axes>"
      ]
     },
     "metadata": {},
     "output_type": "display_data"
    }
   ],
   "source": [
    "utilization_summary.plot(kind='bar', figsize=(12,6), title='Average Silo Utilization by Site')"
   ]
  },
  {
   "cell_type": "code",
   "execution_count": 77,
   "id": "1c494810-0937-444a-97bf-ebc043624cce",
   "metadata": {},
   "outputs": [],
   "source": [
    "behavior_kpi = df_merged.groupby('behavior').agg(\n",
    "    avg_stockout = ('stockout', 'mean'),\n",
    "    avg_overcapacity = ('overcapacity', 'mean'),\n",
    "    avg_waste_risk = ('waste_risk', 'mean')\n",
    "\n",
    ")"
   ]
  },
  {
   "cell_type": "code",
   "execution_count": 78,
   "id": "f1c8dead-a8bf-4e4a-bdc7-9c3a53cd4d76",
   "metadata": {},
   "outputs": [
    {
     "data": {
      "text/plain": [
       "<Axes: title={'center': 'KPI Comparison by Site behavior'}, xlabel='behavior'>"
      ]
     },
     "execution_count": 78,
     "metadata": {},
     "output_type": "execute_result"
    },
    {
     "data": {
      "image/png": "[encoded data removed]",
      "text/plain": [
       "<Figure size 1200x600 with 1 Axes>"
      ]
     },
     "metadata": {},
     "output_type": "display_data"
    }
   ],
   "source": [
    "behavior_kpi.plot(kind='bar', figsize=(12,6), title= 'KPI Comparison by Site behavior')"
   ]
  },
  {
   "cell_type": "code",
   "execution_count": 79,
   "id": "7fa684a4-48cc-4d4f-977b-64048029170c",
   "metadata": {},
   "outputs": [
    {
     "name": "stderr",
     "output_type": "stream",
     "text": [
      "/var/folders/g7/9205nqf15675vhtcpl9dwjv80000gn/T/ipykernel_1109/2001021496.py:1: FutureWarning: The default of observed=False is deprecated and will be changed to True in a future version of pandas. Pass observed=False to retain current behavior or observed=True to adopt the future default and silence this warning.\n",
      "  site_usage = df_merged.groupby('site_id')['consumed_tonnes'].sum().sort_values(ascending=False)\n"
     ]
    }
   ],
   "source": [
    "site_usage = df_merged.groupby('site_id')['consumed_tonnes'].sum().sort_values(ascending=False)"
   ]
  },
  {
   "cell_type": "code",
   "execution_count": 80,
   "id": "c5d93122-9d63-47a7-9da3-d4800bf637e5",
   "metadata": {},
   "outputs": [],
   "source": [
    "total_usage = site_usage.sum()\n",
    "top5 = site_usage.head()\n",
    "top5_share = round(top5.sum()/total_usage * 100, 2)"
   ]
  },
  {
   "cell_type": "code",
   "execution_count": 81,
   "id": "4dcd0d4b-9090-4957-9486-4428cfa97975",
   "metadata": {},
   "outputs": [
    {
     "data": {
      "text/plain": [
       "site_id\n",
       "SITE_025    33604.06\n",
       "SITE_010    33579.76\n",
       "SITE_018    33348.09\n",
       "SITE_001    33056.40\n",
       "SITE_021    33009.68\n",
       "Name: consumed_tonnes, dtype: float64"
      ]
     },
     "metadata": {},
     "output_type": "display_data"
    },
    {
     "data": {
      "text/plain": [
       "np.float64(21.36)"
      ]
     },
     "metadata": {},
     "output_type": "display_data"
    }
   ],
   "source": [
    "display(top5)\n",
    "display(top5_share)\n"
   ]
  },
  {
   "cell_type": "code",
   "execution_count": null,
   "id": "3bb4604e-6f57-4615-b828-ab136cdabbee",
   "metadata": {},
   "outputs": [],
   "source": []
  }
 ],
 "metadata": {
  "kernelspec": {
   "display_name": "Python [conda env:base] *",
   "language": "python",
   "name": "conda-base-py"
  },
  "language_info": {
   "codemirror_mode": {
    "name": "ipython",
    "version": 3
   },
   "file_extension": ".py",
   "mimetype": "text/x-python",
   "name": "python",
   "nbconvert_exporter": "python",
   "pygments_lexer": "ipython3",
   "version": "3.13.5"
  }
 },
 "nbformat": 4,
 "nbformat_minor": 5
}
